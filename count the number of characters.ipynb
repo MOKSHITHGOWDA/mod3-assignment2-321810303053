{
 "cells": [
  {
   "cell_type": "code",
   "execution_count": 14,
   "metadata": {},
   "outputs": [
    {
     "name": "stdout",
     "output_type": "stream",
     "text": [
      "Enter the string !!karnatakabank\n",
      "k,3\n",
      "a,5\n",
      "r,1\n",
      "n,2\n",
      "t,1\n",
      "b,1\n"
     ]
    }
   ],
   "source": [
    "string=input(\"Enter the string !!\")\n",
    "\n",
    "newstr=list(string)\n",
    "\n",
    "newlist=[]\n",
    "\n",
    "for j in newstr:\n",
    "\n",
    "    if j not in newlist:\n",
    "\n",
    "        newlist.append(j)\n",
    "\n",
    "        count=0\n",
    "\n",
    "        for i in range(len(newstr)):\n",
    "\n",
    "            if j==newstr[i]:\n",
    "\n",
    "                count+=1\n",
    "\n",
    "        print(\"{},{}\".format(j,count))\n",
    "                                        "
   ]
  },
  {
   "cell_type": "code",
   "execution_count": null,
   "metadata": {},
   "outputs": [],
   "source": []
  }
 ],
 "metadata": {
  "kernelspec": {
   "display_name": "Python 3",
   "language": "python",
   "name": "python3"
  },
  "language_info": {
   "codemirror_mode": {
    "name": "ipython",
    "version": 3
   },
   "file_extension": ".py",
   "mimetype": "text/x-python",
   "name": "python",
   "nbconvert_exporter": "python",
   "pygments_lexer": "ipython3",
   "version": "3.7.6"
  }
 },
 "nbformat": 4,
 "nbformat_minor": 4
}
